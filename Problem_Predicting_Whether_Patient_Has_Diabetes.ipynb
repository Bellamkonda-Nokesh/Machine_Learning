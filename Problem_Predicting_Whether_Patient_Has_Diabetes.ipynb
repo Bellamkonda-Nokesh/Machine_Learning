{
 "cells": [
  {
   "cell_type": "code",
   "execution_count": 7,
   "id": "1943d424-fe06-4729-ad89-3b53673e1532",
   "metadata": {},
   "outputs": [
    {
     "name": "stdout",
     "output_type": "stream",
     "text": [
      "Accuracy: 100.00%\n"
     ]
    }
   ],
   "source": [
    "#Using Decision Tree\n",
    "import pandas as pd\n",
    "from sklearn.model_selection import train_test_split\n",
    "from sklearn.tree import DecisionTreeClassifier\n",
    "from sklearn.metrics import accuracy_score\n",
    "data = {'Age': [45, 50, 35, 60, 40, 55, 25, 48],\n",
    "'Glucose': [180, 155, 100, 200, 130, 190, 85, 170],\n",
    "'BMI': [28.5, 30.1, 24.3, 32.0, 27.5, 31.4, 22.1, 29.7],\n",
    "'BloodPressure': [80, 75, 68, 85, 70, 78, 65, 82],\n",
    "'Diabetes': [1, 1, 0, 1, 0, 1, 0, 1]} # 1 = Diabetes, 0 = No Diabetes\n",
    "df = pd.DataFrame(data)\n",
    "X = df.drop(columns=['Diabetes']) # Features\n",
    "y = df['Diabetes'] # Target variable\n",
    "X_train, X_test, y_train, y_test = train_test_split(X, y, test_size=0.2, random_state=42)\n",
    "model = DecisionTreeClassifier()\n",
    "model.fit(X_train, y_train)\n",
    "y_pred = model.predict(X_test)\n",
    "accuracy = accuracy_score(y_test, y_pred)\n",
    "print(f'Accuracy: {accuracy * 100:.2f}%')"
   ]
  },
  {
   "cell_type": "code",
   "execution_count": 8,
   "id": "46e98fac-032b-4c65-8763-959b68fd2270",
   "metadata": {},
   "outputs": [
    {
     "name": "stdout",
     "output_type": "stream",
     "text": [
      "Accuracy: 100.00%\n"
     ]
    }
   ],
   "source": [
    "#Using Random Forest\n",
    "import pandas as pd\n",
    "from sklearn.model_selection import train_test_split\n",
    "from sklearn.ensemble import RandomForestClassifier\n",
    "from sklearn.metrics import accuracy_score\n",
    "data = {'Age': [45, 50, 35, 60, 40, 55, 25, 48, 52, 30],\n",
    "'Glucose': [180, 155, 100, 200, 130, 190, 85, 170, 160, 95],\n",
    "'BMI': [28.5, 30.1, 24.3, 32.0, 27.5, 31.4, 22.1, 29.7, 30.5, 23.4],\n",
    "'BloodPressure': [80, 75, 68, 85, 70, 78, 65, 82, 76, 67],\n",
    "'Diabetes': [1, 1, 0, 1, 0, 1, 0, 1, 1, 0]} # 1 = Diabetes, 0 = No Diabetes\n",
    "df = pd.DataFrame(data)\n",
    "X = df.drop(columns=['Diabetes']) # Features\n",
    "y = df['Diabetes'] # Target variable\n",
    "X_train, X_test, y_train, y_test = train_test_split(X, y, test_size=0.2, random_state=42)\n",
    "model = RandomForestClassifier(n_estimators=100, random_state=42)\n",
    "model.fit(X_train, y_train)\n",
    "y_pred = model.predict(X_test)\n",
    "accuracy = accuracy_score(y_test, y_pred)\n",
    "print(f'Accuracy: {accuracy * 100:.2f}%')"
   ]
  },
  {
   "cell_type": "code",
   "execution_count": 9,
   "id": "f86df02b-dc32-4bcf-8c97-aa722f909085",
   "metadata": {},
   "outputs": [
    {
     "name": "stdout",
     "output_type": "stream",
     "text": [
      "Accuracy: 100.00%\n"
     ]
    }
   ],
   "source": [
    "#Using K-Nearest Neighbors (KNN)\n",
    "import pandas as pd\n",
    "from sklearn.model_selection import train_test_split\n",
    "from sklearn.preprocessing import StandardScaler\n",
    "from sklearn.neighbors import KNeighborsClassifier\n",
    "from sklearn.metrics import accuracy_score\n",
    "data = {'Age': [45, 50, 35, 60, 40, 55, 25, 48, 52, 30],\n",
    "'Glucose': [180, 155, 100, 200, 130, 190, 85, 170, 160, 95],\n",
    "'BMI': [28.5, 30.1, 24.3, 32.0, 27.5, 31.4, 22.1, 29.7, 30.5, 23.4],\n",
    "'BloodPressure': [80, 75, 68, 85, 70, 78, 65, 82, 76, 67],\n",
    "'Diabetes': [1, 1, 0, 1, 0, 1, 0, 1, 1, 0]} # 1 = Diabetes, 0 = No Diabetes\n",
    "df = pd.DataFrame(data)\n",
    "X = df.drop(columns=['Diabetes']) # Features\n",
    "y = df['Diabetes'] # Target variable\n",
    "scaler = StandardScaler()\n",
    "X_scaled = scaler.fit_transform(X) # Normalize feature values\n",
    "X_train, X_test, y_train, y_test = train_test_split(X_scaled, y, test_size=0.2,\n",
    "random_state=42)\n",
    "model = KNeighborsClassifier(n_neighbors=3)\n",
    "model.fit(X_train, y_train)\n",
    "y_pred = model.predict(X_test)\n",
    "accuracy = accuracy_score(y_test, y_pred)\n",
    "print(f'Accuracy: {accuracy * 100:.2f}%')"
   ]
  },
  {
   "cell_type": "code",
   "execution_count": 10,
   "id": "bed94af5-918a-4cb1-971a-1b5abd735f55",
   "metadata": {},
   "outputs": [
    {
     "name": "stdout",
     "output_type": "stream",
     "text": [
      "Accuracy: 100.00%\n"
     ]
    }
   ],
   "source": [
    "#Support Vector Machine (SVM)\n",
    "import pandas as pd\n",
    "from sklearn.model_selection import train_test_split\n",
    "from sklearn.preprocessing import StandardScaler\n",
    "from sklearn.svm import SVC\n",
    "from sklearn.metrics import accuracy_score\n",
    "data = {'Age': [45, 50, 35, 60, 40, 55, 25, 48, 52, 30],\n",
    "'Glucose': [180, 155, 100, 200, 130, 190, 85, 170, 160, 95],\n",
    "'BMI': [28.5, 30.1, 24.3, 32.0, 27.5, 31.4, 22.1, 29.7, 30.5, 23.4],\n",
    "'BloodPressure': [80, 75, 68, 85, 70, 78, 65, 82, 76, 67],\n",
    "'Diabetes': [1, 1, 0, 1, 0, 1, 0, 1, 1, 0]} # 1 = Diabetes, 0 = No Diabetes\n",
    "df = pd.DataFrame(data)\n",
    "X = df.drop(columns=['Diabetes']) # Features\n",
    "y = df['Diabetes'] # Target variable\n",
    "scaler = StandardScaler()\n",
    "X_scaled = scaler.fit_transform(X) # Normalize feature values\n",
    "X_train, X_test, y_train, y_test = train_test_split(X_scaled, y, test_size=0.2,\n",
    "random_state=42)\n",
    "model = SVC(kernel='rbf', random_state=42)\n",
    "model.fit(X_train, y_train)\n",
    "y_pred = model.predict(X_test)\n",
    "accuracy = accuracy_score(y_test, y_pred)\n",
    "print(f'Accuracy: {accuracy * 100:.2f}%')"
   ]
  },
  {
   "cell_type": "code",
   "execution_count": null,
   "id": "370f5eab-5a3c-4aaf-8d64-7b6da44ccf90",
   "metadata": {},
   "outputs": [],
   "source": []
  }
 ],
 "metadata": {
  "kernelspec": {
   "display_name": "Python 3 (ipykernel)",
   "language": "python",
   "name": "python3"
  },
  "language_info": {
   "codemirror_mode": {
    "name": "ipython",
    "version": 3
   },
   "file_extension": ".py",
   "mimetype": "text/x-python",
   "name": "python",
   "nbconvert_exporter": "python",
   "pygments_lexer": "ipython3",
   "version": "3.12.7"
  }
 },
 "nbformat": 4,
 "nbformat_minor": 5
}
