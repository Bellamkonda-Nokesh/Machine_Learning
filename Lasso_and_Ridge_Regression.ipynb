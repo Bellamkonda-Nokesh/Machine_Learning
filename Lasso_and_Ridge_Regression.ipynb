{
 "cells": [
  {
   "cell_type": "code",
   "execution_count": 2,
   "id": "94e94594-0a1b-48eb-a870-418c7a7c0684",
   "metadata": {},
   "outputs": [],
   "source": [
    "import numpy as np\n",
    "import pandas as pd\n",
    "import matplotlib.pyplot as plt\n",
    "from sklearn.linear_model import LinearRegression,Ridge,Lasso\n",
    "from sklearn.model_selection import train_test_split\n",
    "from sklearn.preprocessing import StandardScaler"
   ]
  },
  {
   "cell_type": "code",
   "execution_count": 9,
   "id": "ebc8ca06-e351-46d9-9c2a-ec077354d26a",
   "metadata": {},
   "outputs": [
    {
     "name": "stdout",
     "output_type": "stream",
     "text": [
      "    Feature        Linear          Ride         Lasso\n",
      "0      Size  4.310204e+06  3.830007e+06  4.309098e+06\n",
      "1  Bedrooms  1.825593e+04 -1.095605e+03  1.689888e+04\n",
      "2       Age -4.358693e+04 -3.388753e+04 -4.242716e+04\n",
      "3  Distance -1.281763e+04  6.777412e+03 -1.164666e+04\n"
     ]
    }
   ],
   "source": [
    "#Generate Synthetic Data\n",
    "np.random.seed(42)\n",
    "size=np.random.randint(1000,4000,100)\n",
    "bedrooms=np.random.randint(1,5,100)\n",
    "age=np.random.randint(1,50,100)\n",
    "distance=np.random.randint(1,30,100)\n",
    "price=5000*size+20000*bedrooms-3000*age-1500*distance+np.random.randint(-50000,50000,100)\n",
    "#crate a DataFrame\n",
    "df=pd.DataFrame({'Size':size,'Bedrooms':bedrooms,'Age':age,'Distance':distance,'Price':price})\n",
    "#Features and Target variable\n",
    "X=df[['Size','Bedrooms','Age','Distance']]\n",
    "Y=df['Price']\n",
    "#Split data into training and test sets\n",
    "X_train,X_test,y_train,y_test=train_test_split(X,Y,test_size=0.2,random_state=42)\n",
    "#Apply linear Ridge, Lasso Regression\n",
    "#Standardizing data(import for ridge and lasso)\n",
    "scaler=StandardScaler()\n",
    "X_train_scaled=scaler.fit_transform(X_train)\n",
    "X_test_scaled=scaler.transform(X_test)\n",
    "#Linear Regression\n",
    "lr=LinearRegression()\n",
    "lr.fit(X_train_scaled,y_train)\n",
    "#Ride Regression(L2 Regularization)\n",
    "ridge=Ridge(alpha=10)\n",
    "ridge.fit(X_train_scaled,y_train)\n",
    "#Lasso Regression (L1 Regularization)\n",
    "lasso=Lasso(alpha=1000)\n",
    "lasso.fit(X_train_scaled,y_train)\n",
    "#Printing\n",
    "coef_df=pd.DataFrame({'Feature':X.columns,'Linear':lr.coef_,'Ride':ridge.coef_,'Lasso':lasso.coef_})\n",
    "print(coef_df)\n"
   ]
  },
  {
   "cell_type": "code",
   "execution_count": null,
   "id": "1afe6bb3-a8e6-4f82-aeb6-6f72e7f2d54d",
   "metadata": {},
   "outputs": [],
   "source": []
  }
 ],
 "metadata": {
  "kernelspec": {
   "display_name": "Python 3 (ipykernel)",
   "language": "python",
   "name": "python3"
  },
  "language_info": {
   "codemirror_mode": {
    "name": "ipython",
    "version": 3
   },
   "file_extension": ".py",
   "mimetype": "text/x-python",
   "name": "python",
   "nbconvert_exporter": "python",
   "pygments_lexer": "ipython3",
   "version": "3.12.7"
  }
 },
 "nbformat": 4,
 "nbformat_minor": 5
}
