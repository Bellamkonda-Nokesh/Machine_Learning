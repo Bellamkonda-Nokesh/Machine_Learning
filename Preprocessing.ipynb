{
 "cells": [
  {
   "cell_type": "code",
   "execution_count": 2,
   "id": "fc5f1d0f-f499-4b9d-bbf2-f4662a9adc1a",
   "metadata": {},
   "outputs": [
    {
     "data": {
      "text/html": [
       "<div>\n",
       "<style scoped>\n",
       "    .dataframe tbody tr th:only-of-type {\n",
       "        vertical-align: middle;\n",
       "    }\n",
       "\n",
       "    .dataframe tbody tr th {\n",
       "        vertical-align: top;\n",
       "    }\n",
       "\n",
       "    .dataframe thead th {\n",
       "        text-align: right;\n",
       "    }\n",
       "</style>\n",
       "<table border=\"1\" class=\"dataframe\">\n",
       "  <thead>\n",
       "    <tr style=\"text-align: right;\">\n",
       "      <th></th>\n",
       "      <th>ID</th>\n",
       "      <th>Pending</th>\n",
       "    </tr>\n",
       "  </thead>\n",
       "  <tbody>\n",
       "    <tr>\n",
       "      <th>0</th>\n",
       "      <td>11</td>\n",
       "      <td>5000</td>\n",
       "    </tr>\n",
       "    <tr>\n",
       "      <th>1</th>\n",
       "      <td>12</td>\n",
       "      <td>10000</td>\n",
       "    </tr>\n",
       "    <tr>\n",
       "      <th>2</th>\n",
       "      <td>13</td>\n",
       "      <td>NaN</td>\n",
       "    </tr>\n",
       "    <tr>\n",
       "      <th>3</th>\n",
       "      <td>14</td>\n",
       "      <td>5500</td>\n",
       "    </tr>\n",
       "    <tr>\n",
       "      <th>4</th>\n",
       "      <td>15</td>\n",
       "      <td>7600</td>\n",
       "    </tr>\n",
       "    <tr>\n",
       "      <th>5</th>\n",
       "      <td>16</td>\n",
       "      <td>NaN</td>\n",
       "    </tr>\n",
       "    <tr>\n",
       "      <th>6</th>\n",
       "      <td>17</td>\n",
       "      <td>15000</td>\n",
       "    </tr>\n",
       "    <tr>\n",
       "      <th>7</th>\n",
       "      <td>18</td>\n",
       "      <td>4500</td>\n",
       "    </tr>\n",
       "    <tr>\n",
       "      <th>8</th>\n",
       "      <td>19</td>\n",
       "      <td>2000</td>\n",
       "    </tr>\n",
       "    <tr>\n",
       "      <th>9</th>\n",
       "      <td>20</td>\n",
       "      <td>NaN</td>\n",
       "    </tr>\n",
       "  </tbody>\n",
       "</table>\n",
       "</div>"
      ],
      "text/plain": [
       "   ID Pending\n",
       "0  11    5000\n",
       "1  12   10000\n",
       "2  13     NaN\n",
       "3  14    5500\n",
       "4  15    7600\n",
       "5  16     NaN\n",
       "6  17   15000\n",
       "7  18    4500\n",
       "8  19    2000\n",
       "9  20     NaN"
      ]
     },
     "execution_count": 2,
     "metadata": {},
     "output_type": "execute_result"
    }
   ],
   "source": [
    "#Handling the missing values in datasets\n",
    "\n",
    "import numpy as np\n",
    "import pandas as pd\n",
    "fee = pd.DataFrame({\n",
    "    'ID':[11,12,13,14,15,16,17,18,19,20],\n",
    "    'Pending':['5000','10000',np.nan,'5500','7600',np.nan,'15000','4500','2000',np.nan]})\n",
    "fee"
   ]
  },
  {
   "cell_type": "code",
   "execution_count": 3,
   "id": "481e7447-0c3b-4e06-b911-90971b592244",
   "metadata": {},
   "outputs": [
    {
     "data": {
      "text/plain": [
       "0    False\n",
       "1    False\n",
       "2     True\n",
       "3    False\n",
       "4    False\n",
       "5     True\n",
       "6    False\n",
       "7    False\n",
       "8    False\n",
       "9     True\n",
       "Name: Pending, dtype: bool"
      ]
     },
     "execution_count": 3,
     "metadata": {},
     "output_type": "execute_result"
    }
   ],
   "source": [
    "pd.isnull(fee['Pending'])"
   ]
  },
  {
   "cell_type": "code",
   "execution_count": 4,
   "id": "c8d18340-37dd-4341-8ffd-2c987d5bda7e",
   "metadata": {},
   "outputs": [
    {
     "name": "stdout",
     "output_type": "stream",
     "text": [
      "     ID  Pending\n",
      "0  True     True\n",
      "1  True     True\n",
      "2  True    False\n",
      "3  True     True\n",
      "4  True     True\n",
      "5  True    False\n",
      "6  True     True\n",
      "7  True     True\n",
      "8  True     True\n",
      "9  True    False\n"
     ]
    }
   ],
   "source": [
    "print(fee.notnull())"
   ]
  },
  {
   "cell_type": "code",
   "execution_count": 5,
   "id": "920f52bb-e542-406c-928c-107e508385f1",
   "metadata": {},
   "outputs": [
    {
     "name": "stdout",
     "output_type": "stream",
     "text": [
      "   ID\n",
      "0  11\n",
      "1  12\n",
      "2  13\n",
      "3  14\n",
      "4  15\n",
      "5  16\n",
      "6  17\n",
      "7  18\n",
      "8  19\n",
      "9  20\n"
     ]
    }
   ],
   "source": [
    "#Drop the columns missing values\n",
    "print(fee.drop([\"Pending\"],axis=1))"
   ]
  },
  {
   "cell_type": "code",
   "execution_count": 6,
   "id": "341d8be3-0c7d-404a-b4d1-5ed5e1b696fe",
   "metadata": {},
   "outputs": [
    {
     "data": {
      "text/html": [
       "<div>\n",
       "<style scoped>\n",
       "    .dataframe tbody tr th:only-of-type {\n",
       "        vertical-align: middle;\n",
       "    }\n",
       "\n",
       "    .dataframe tbody tr th {\n",
       "        vertical-align: top;\n",
       "    }\n",
       "\n",
       "    .dataframe thead th {\n",
       "        text-align: right;\n",
       "    }\n",
       "</style>\n",
       "<table border=\"1\" class=\"dataframe\">\n",
       "  <thead>\n",
       "    <tr style=\"text-align: right;\">\n",
       "      <th></th>\n",
       "      <th>G1</th>\n",
       "      <th>G2</th>\n",
       "      <th>G3</th>\n",
       "    </tr>\n",
       "  </thead>\n",
       "  <tbody>\n",
       "    <tr>\n",
       "      <th>0</th>\n",
       "      <td>10</td>\n",
       "      <td>25.0</td>\n",
       "      <td>21</td>\n",
       "    </tr>\n",
       "    <tr>\n",
       "      <th>1</th>\n",
       "      <td>20</td>\n",
       "      <td>NaN</td>\n",
       "      <td>22</td>\n",
       "    </tr>\n",
       "    <tr>\n",
       "      <th>2</th>\n",
       "      <td>30</td>\n",
       "      <td>NaN</td>\n",
       "      <td>23</td>\n",
       "    </tr>\n",
       "    <tr>\n",
       "      <th>3</th>\n",
       "      <td>40</td>\n",
       "      <td>29.0</td>\n",
       "      <td>24</td>\n",
       "    </tr>\n",
       "  </tbody>\n",
       "</table>\n",
       "</div>"
      ],
      "text/plain": [
       "   G1    G2  G3\n",
       "0  10  25.0  21\n",
       "1  20   NaN  22\n",
       "2  30   NaN  23\n",
       "3  40  29.0  24"
      ]
     },
     "execution_count": 6,
     "metadata": {},
     "output_type": "execute_result"
    }
   ],
   "source": [
    "#filling missing values with mean\n",
    "import numpy as np\n",
    "import pandas as pd\n",
    "G_dict={'G1':[10,20,30,40],\n",
    "        'G2':[25,np.nan,np.nan,29],\n",
    "        'G3':[15,14,17,11],\n",
    "        'G3':[21,22,23,24]}\n",
    "gfg=pd.DataFrame(G_dict)\n",
    "gfg"
   ]
  },
  {
   "cell_type": "code",
   "execution_count": 7,
   "id": "6e641c9c-be15-44c2-8e6d-2d448e8eb0ef",
   "metadata": {},
   "outputs": [
    {
     "name": "stdout",
     "output_type": "stream",
     "text": [
      "   G1    G2  G3  G4\n",
      "0  10  25.0  15  21\n",
      "1  20  27.0  14  22\n",
      "2  30  27.0  17  23\n",
      "3  40  29.0  11  24\n"
     ]
    }
   ],
   "source": [
    "import numpy as np\n",
    "import pandas as pd\n",
    "G_dict={'G1':[10,20,30,40],\n",
    "        'G2':[25,np.nan,np.nan,29],\n",
    "        'G3':[15,14,17,11],\n",
    "        'G4':[21,22,23,24]}\n",
    "gfg=pd.DataFrame(G_dict)\n",
    "mean_value=gfg['G2'].mean()\n",
    "gfg['G2'] = gfg['G2'].fillna(mean_value)\n",
    "print(gfg)"
   ]
  },
  {
   "cell_type": "code",
   "execution_count": 8,
   "id": "c98217cd-7c95-4eba-a39c-8537e7058c7e",
   "metadata": {},
   "outputs": [
    {
     "name": "stdout",
     "output_type": "stream",
     "text": [
      "Original Dataset:\n",
      "   sepal length (cm)  sepal width (cm)  petal length (cm)  petal width (cm)\n",
      "0                5.1               3.5                1.4               0.2\n",
      "1                4.9               3.0                1.4               0.2\n",
      "2                4.7               3.2                1.3               0.2\n",
      "3                4.6               3.1                1.5               0.2\n",
      "4                5.0               3.6                1.4               0.2\n"
     ]
    }
   ],
   "source": [
    "import pandas as pd\n",
    "from sklearn.preprocessing import MinMaxScaler\n",
    "from sklearn.datasets import load_iris\n",
    "iris = load_iris()\n",
    "data = iris.data\n",
    "columns = iris.feature_names\n",
    "df = pd.DataFrame(data, columns = columns)\n",
    "print(\"Original Dataset:\")\n",
    "print(df.head())"
   ]
  },
  {
   "cell_type": "code",
   "execution_count": 9,
   "id": "f844ed5e-8aa2-4a93-b2b2-2009d90fd939",
   "metadata": {},
   "outputs": [
    {
     "name": "stdout",
     "output_type": "stream",
     "text": [
      "Original Dataset:\n",
      "   sepal length (cm)  sepal width (cm)  petal length (cm)  petal width (cm)\n",
      "0                5.1               3.5                1.4               0.2\n",
      "1                4.9               3.0                1.4               0.2\n",
      "2                4.7               3.2                1.3               0.2\n",
      "3                4.6               3.1                1.5               0.2\n",
      "4                5.0               3.6                1.4               0.2\n",
      "MinMaxScaler()\n",
      "\n",
      "Normalized Dataset:\n",
      "   sepal length (cm)  sepal width (cm)  petal length (cm)  petal width (cm)\n",
      "0           0.222222          0.625000           0.067797          0.041667\n",
      "1           0.166667          0.416667           0.067797          0.041667\n",
      "2           0.111111          0.500000           0.050847          0.041667\n",
      "3           0.083333          0.458333           0.084746          0.041667\n",
      "4           0.194444          0.666667           0.067797          0.041667\n"
     ]
    }
   ],
   "source": [
    "import pandas as pd\n",
    "from sklearn.preprocessing import MinMaxScaler\n",
    "from sklearn.datasets import load_iris\n",
    "iris = load_iris()\n",
    "data = iris.data\n",
    "columns = iris.feature_names\n",
    "df = pd.DataFrame(data, columns = columns)\n",
    "print(\"Original Dataset:\")\n",
    "print(df.head())\n",
    "scaler = MinMaxScaler()\n",
    "print(scaler)\n",
    "normalized_data = scaler.fit_transform(df)\n",
    "df_normalized = pd.DataFrame(normalized_data, columns = columns)\n",
    "print(\"\\nNormalized Dataset:\")\n",
    "print(df_normalized.head())"
   ]
  },
  {
   "cell_type": "code",
   "execution_count": 1,
   "id": "f358f29a-e01c-4fe9-8d68-ba9837c17b2d",
   "metadata": {},
   "outputs": [],
   "source": [
    "import numpy as np"
   ]
  },
  {
   "cell_type": "code",
   "execution_count": 34,
   "id": "3408d464-20d5-4a7e-98a8-752d8dfe8746",
   "metadata": {},
   "outputs": [
    {
     "name": "stdout",
     "output_type": "stream",
     "text": [
      "outliers: [100] 26.308933843848557\n"
     ]
    }
   ],
   "source": [
    "data=[10,12,14,11,13,100,12,15,14,11]\n",
    "mean=np.mean(data)\n",
    "std_dev=np.std(data)\n",
    "threshold=2\n",
    "outliers=[x for x in data if(x-mean)/std_dev>threshold]\n",
    "print(\"outliers:\",outliers,std_dev)"
   ]
  },
  {
   "cell_type": "code",
   "execution_count": 28,
   "id": "d4460fc1-d568-4318-968a-9eed446f6894",
   "metadata": {},
   "outputs": [
    {
     "name": "stdout",
     "output_type": "stream",
     "text": [
      "Data without outliers [10, 12, 14, 11, 13, 12, 15, 14, 11] 26.308933843848557\n"
     ]
    }
   ],
   "source": [
    "#To drop outliers\n",
    "data=[10,12,14,11,13,100,12,15,14,11]\n",
    "mean=np.mean(data)\n",
    "std_dev=np.std(data)\n",
    "threshold=2\n",
    "filtered_data=[x for x in data if(x-mean)/std_dev<=threshold]\n",
    "print(\"Data without outliers\",filtered_data,std_dev)"
   ]
  },
  {
   "cell_type": "code",
   "execution_count": 57,
   "id": "0c417bce-c765-469a-95ae-a418afaae7d9",
   "metadata": {},
   "outputs": [
    {
     "name": "stdout",
     "output_type": "stream",
     "text": [
      "outliers: [300, 350, 390]\n"
     ]
    },
    {
     "name": "stderr",
     "output_type": "stream",
     "text": [
      "C:\\Users\\NOKESH\\AppData\\Local\\Temp\\ipykernel_14128\\1608871076.py:5: RuntimeWarning: divide by zero encountered in scalar divide\n",
      "  outliers=[x for x in data if(x-mean)/std_dev>threshold]\n"
     ]
    }
   ],
   "source": [
    "data=[10,12,14,11,13,300,350,390,15,14,11]\n",
    "mean=np.mean(data)\n",
    "std_dev=np.std(mean)\n",
    "threshold=3\n",
    "outliers=[x for x in data if(x-mean)/std_dev>threshold]\n",
    "print(\"outliers:\",outliers)"
   ]
  },
  {
   "cell_type": "code",
   "execution_count": 58,
   "id": "841c0276-6138-42cc-93d5-79a65682fe20",
   "metadata": {},
   "outputs": [
    {
     "name": "stdout",
     "output_type": "stream",
     "text": [
      "Data without outliers [10, 12, 14, 11, 13, 15, 14, 11] 0.0\n"
     ]
    },
    {
     "name": "stderr",
     "output_type": "stream",
     "text": [
      "C:\\Users\\NOKESH\\AppData\\Local\\Temp\\ipykernel_14128\\3985714873.py:1: RuntimeWarning: divide by zero encountered in scalar divide\n",
      "  filtered_data2=[x for x in data if(x-mean)/std_dev<=threshold]\n"
     ]
    }
   ],
   "source": [
    "filtered_data2=[x for x in data if(x-mean)/std_dev<=threshold]\n",
    "print(\"Data without outliers\",filtered_data2,std_dev)"
   ]
  },
  {
   "cell_type": "code",
   "execution_count": null,
   "id": "e50602ff-28aa-4057-a343-0e08a3278de9",
   "metadata": {},
   "outputs": [],
   "source": []
  }
 ],
 "metadata": {
  "kernelspec": {
   "display_name": "Python 3 (ipykernel)",
   "language": "python",
   "name": "python3"
  },
  "language_info": {
   "codemirror_mode": {
    "name": "ipython",
    "version": 3
   },
   "file_extension": ".py",
   "mimetype": "text/x-python",
   "name": "python",
   "nbconvert_exporter": "python",
   "pygments_lexer": "ipython3",
   "version": "3.12.7"
  }
 },
 "nbformat": 4,
 "nbformat_minor": 5
}
