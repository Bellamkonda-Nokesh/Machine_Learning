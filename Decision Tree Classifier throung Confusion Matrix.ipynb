{
 "cells": [
  {
   "cell_type": "code",
   "execution_count": 8,
   "id": "fc0dbd7d-ff53-4d98-a3f4-4d1a2fe9f494",
   "metadata": {},
   "outputs": [
    {
     "name": "stdout",
     "output_type": "stream",
     "text": [
      "\n",
      " Accuracy: 1.0\n",
      "\n",
      "Confusion Matrix:\n",
      " [[19  0  0]\n",
      " [ 0 13  0]\n",
      " [ 0  0 13]]\n"
     ]
    }
   ],
   "source": [
    "import pandas as pd\n",
    "from sklearn.model_selection import train_test_split\n",
    "from sklearn.tree import DecisionTreeClassifier\n",
    "\n",
    "from sklearn.metrics import confusion_matrix, accuracy_score\n",
    "\n",
    "# Read data - use read_excel for .xlsx files\n",
    "df = pd.read_csv('Machine_Learning/Machine_Learning/iris_data.csv')  \n",
    "# Feature and target selection\n",
    "X = df[['sepal_length', 'sepal_width', 'petal_length','petal_width']]\n",
    "Y = df['species']\n",
    "\n",
    "# Split data\n",
    "X_train, X_test, Y_train, Y_test = train_test_split(X, Y, test_size=0.3, random_state=42)\n",
    "\n",
    "dtree=DecisionTreeClassifier(criterion='gini',max_depth=3,random_state=42)\n",
    "dtree.fit(X_train,Y_train)\n",
    "\n",
    "Y_pred=dtree.predict(X_test)\n",
    "\n",
    "# Results\n",
    "print(\"\\n Accuracy:\", accuracy_score(Y_test, Y_pred)) \n",
    "print(\"\\nConfusion Matrix:\\n\", confusion_matrix(Y_test, Y_pred)) "
   ]
  },
  {
   "cell_type": "code",
   "execution_count": null,
   "id": "b5a74442-2cc8-4446-8043-145c2becd9dd",
   "metadata": {},
   "outputs": [],
   "source": []
  }
 ],
 "metadata": {
  "kernelspec": {
   "display_name": "Python 3 (ipykernel)",
   "language": "python",
   "name": "python3"
  },
  "language_info": {
   "codemirror_mode": {
    "name": "ipython",
    "version": 3
   },
   "file_extension": ".py",
   "mimetype": "text/x-python",
   "name": "python",
   "nbconvert_exporter": "python",
   "pygments_lexer": "ipython3",
   "version": "3.12.7"
  }
 },
 "nbformat": 4,
 "nbformat_minor": 5
}
