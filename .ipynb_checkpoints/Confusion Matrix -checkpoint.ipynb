{
 "cells": [
  {
   "cell_type": "code",
   "execution_count": 2,
   "id": "cdb22657-6aa0-4c24-983b-b496a94b9eae",
   "metadata": {},
   "outputs": [
    {
     "name": "stdout",
     "output_type": "stream",
     "text": [
      "confusion Matrix:\n",
      " [[4 1]\n",
      " [1 4]]\n",
      "\n",
      " Classification Report:\n",
      ":               precision    recall  f1-score   support\n",
      "\n",
      "           0       0.80      0.80      0.80         5\n",
      "           1       0.80      0.80      0.80         5\n",
      "\n",
      "    accuracy                           0.80        10\n",
      "   macro avg       0.80      0.80      0.80        10\n",
      "weighted avg       0.80      0.80      0.80        10\n",
      "\n"
     ]
    }
   ],
   "source": [
    "from sklearn.metrics import confusion_matrix,classification_report\n",
    "import numpy as np\n",
    "#Actual Values(Ground Truth)\n",
    "y_true=np.array([1,0,1,1,0,1,0,0,1,0])\n",
    "#Predicted values by the model\n",
    "y_pred=np.array([1,0,1,0,0,1,1,0,1,0])\n",
    "\n",
    "#Compute Confusion Matrix\n",
    "cm=confusion_matrix(y_true,y_pred)\n",
    "print(\"confusion Matrix:\\n\",cm)\n",
    "#Display Classification Report\n",
    "print(\"\\n Classification Report:\\n:\",classification_report(y_true,y_pred))"
   ]
  },
  {
   "cell_type": "code",
   "execution_count": 3,
   "id": "b8a3cc13-eb43-4305-985c-53a0a43d365d",
   "metadata": {},
   "outputs": [
    {
     "name": "stdout",
     "output_type": "stream",
     "text": [
      "confusion Matrix:\n",
      " [[2 1]\n",
      " [3 4]]\n",
      "\n",
      " Classification Report:\n",
      ":               precision    recall  f1-score   support\n",
      "\n",
      "           0       0.40      0.67      0.50         3\n",
      "           1       0.80      0.57      0.67         7\n",
      "\n",
      "    accuracy                           0.60        10\n",
      "   macro avg       0.60      0.62      0.58        10\n",
      "weighted avg       0.68      0.60      0.62        10\n",
      "\n"
     ]
    }
   ],
   "source": [
    "from sklearn.metrics import confusion_matrix,classification_report\n",
    "import numpy as np\n",
    "#Actual Values(Ground Truth)\n",
    "y_true=np.array([1,1,1,1,1,1,0,0,1,0])\n",
    "#Predicted values by the model\n",
    "y_pred=np.array([1,0,1,0,0,1,1,0,1,0])\n",
    "\n",
    "#Compute Confusion Matrix\n",
    "cm=confusion_matrix(y_true,y_pred)\n",
    "print(\"confusion Matrix:\\n\",cm)\n",
    "#Display Classification Report\n",
    "print(\"\\n Classification Report:\\n:\",classification_report(y_true,y_pred))"
   ]
  },
  {
   "cell_type": "code",
   "execution_count": null,
   "id": "41000ec2-1b2a-4310-9263-ba36ba9ae490",
   "metadata": {},
   "outputs": [],
   "source": []
  }
 ],
 "metadata": {
  "kernelspec": {
   "display_name": "Python 3 (ipykernel)",
   "language": "python",
   "name": "python3"
  },
  "language_info": {
   "codemirror_mode": {
    "name": "ipython",
    "version": 3
   },
   "file_extension": ".py",
   "mimetype": "text/x-python",
   "name": "python",
   "nbconvert_exporter": "python",
   "pygments_lexer": "ipython3",
   "version": "3.12.7"
  }
 },
 "nbformat": 4,
 "nbformat_minor": 5
}
