{
 "cells": [
  {
   "cell_type": "code",
   "execution_count": 12,
   "id": "a94c64b4-b406-46ff-9cc7-5c372870e114",
   "metadata": {},
   "outputs": [
    {
     "name": "stdout",
     "output_type": "stream",
     "text": [
      "Predicted Fruit: Apple\n"
     ]
    }
   ],
   "source": [
    "from sklearn.neighbors import KNeighborsClassifier\n",
    "import numpy as np\n",
    "\n",
    "# Training data\n",
    "x_train = np.array([[150, 7], [160, 8], [140, 6], [300, 12], [310, 10], [290, 11]])\n",
    "y_train = np.array([\"Apple\", \"Apple\", \"Apple\", \"Orange\", \"Orange\", \"Orange\"])\n",
    "\n",
    "# Test data\n",
    "x_test = np.array([[155, 7.5]])\n",
    "\n",
    "# Initialize the classifier\n",
    "knn = KNeighborsClassifier(n_neighbors=3)\n",
    "\n",
    "# Fit the model\n",
    "knn.fit(x_train, y_train)\n",
    "\n",
    "# Make a prediction\n",
    "prediction = knn.predict(x_test)\n",
    "\n",
    "# Output the prediction\n",
    "print(\"Predicted Fruit:\", prediction[0])"
   ]
  },
  {
   "cell_type": "code",
   "execution_count": 18,
   "id": "72209fc8-305e-4352-b0ad-528e98515c32",
   "metadata": {},
   "outputs": [
    {
     "name": "stdout",
     "output_type": "stream",
     "text": [
      "\n",
      " Accuracy: 1.0\n",
      "\n",
      "Confusion Matrix:\n",
      " [[10  0  0]\n",
      " [ 0  9  0]\n",
      " [ 0  0 11]]\n"
     ]
    }
   ],
   "source": [
    "import pandas as pd\n",
    "from sklearn.model_selection import train_test_split\n",
    "from sklearn.preprocessing import StandardScaler\n",
    "from sklearn.neighbors import KNeighborsClassifier\n",
    "from sklearn.metrics import confusion_matrix, accuracy_score  # Added accuracy_score import\n",
    "\n",
    "# Read data - use read_excel for .xlsx files\n",
    "df = pd.read_csv(\"iris_data.csv\")  \n",
    "\n",
    "# Feature and target selection\n",
    "X = df[['sepal_length', 'sepal_width', 'petal_length','petal_width']]\n",
    "Y = df['species']\n",
    "\n",
    "# Split data\n",
    "X_train, X_test, Y_train, Y_test = train_test_split(X, Y, test_size=0.2, random_state=42)\n",
    "\n",
    "# Feature scaling\n",
    "scaler = StandardScaler()\n",
    "X_train = scaler.fit_transform(X_train)\n",
    "X_test = scaler.transform(X_test)\n",
    "\n",
    "# Model training\n",
    "k = 5\n",
    "knn = KNeighborsClassifier(n_neighbors=k)\n",
    "knn.fit(X_train, Y_train)\n",
    "\n",
    "# Predictions\n",
    "Y_pred = knn.predict(X_test)\n",
    "\n",
    "# Results\n",
    "print(\"\\n Accuracy:\", accuracy_score(Y_test, Y_pred)) \n",
    "print(\"\\nConfusion Matrix:\\n\", confusion_matrix(Y_test, Y_pred)) "
   ]
  },
  {
   "cell_type": "code",
   "execution_count": null,
   "id": "2b0731c9-666d-4b50-92c1-3bf0c871640b",
   "metadata": {},
   "outputs": [],
   "source": []
  }
 ],
 "metadata": {
  "kernelspec": {
   "display_name": "Python 3 (ipykernel)",
   "language": "python",
   "name": "python3"
  },
  "language_info": {
   "codemirror_mode": {
    "name": "ipython",
    "version": 3
   },
   "file_extension": ".py",
   "mimetype": "text/x-python",
   "name": "python",
   "nbconvert_exporter": "python",
   "pygments_lexer": "ipython3",
   "version": "3.12.7"
  }
 },
 "nbformat": 4,
 "nbformat_minor": 5
}
