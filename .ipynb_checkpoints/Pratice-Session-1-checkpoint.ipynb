{
 "cells": [
  {
   "cell_type": "code",
   "execution_count": 1,
   "id": "a2685550-15cf-49f1-b359-ca9bf102554c",
   "metadata": {},
   "outputs": [
    {
     "data": {
      "text/html": [
       "<div>\n",
       "<style scoped>\n",
       "    .dataframe tbody tr th:only-of-type {\n",
       "        vertical-align: middle;\n",
       "    }\n",
       "\n",
       "    .dataframe tbody tr th {\n",
       "        vertical-align: top;\n",
       "    }\n",
       "\n",
       "    .dataframe thead th {\n",
       "        text-align: right;\n",
       "    }\n",
       "</style>\n",
       "<table border=\"1\" class=\"dataframe\">\n",
       "  <thead>\n",
       "    <tr style=\"text-align: right;\">\n",
       "      <th></th>\n",
       "      <th>Name</th>\n",
       "      <th>Age</th>\n",
       "      <th>Gender</th>\n",
       "      <th>Marks</th>\n",
       "    </tr>\n",
       "  </thead>\n",
       "  <tbody>\n",
       "    <tr>\n",
       "      <th>0</th>\n",
       "      <td>kavi</td>\n",
       "      <td>20</td>\n",
       "      <td>F</td>\n",
       "      <td>56</td>\n",
       "    </tr>\n",
       "    <tr>\n",
       "      <th>1</th>\n",
       "      <td>anuj</td>\n",
       "      <td>21</td>\n",
       "      <td>M</td>\n",
       "      <td>65</td>\n",
       "    </tr>\n",
       "    <tr>\n",
       "      <th>2</th>\n",
       "      <td>raj</td>\n",
       "      <td>19</td>\n",
       "      <td>M</td>\n",
       "      <td>NaN</td>\n",
       "    </tr>\n",
       "    <tr>\n",
       "      <th>3</th>\n",
       "      <td>gautham</td>\n",
       "      <td>20</td>\n",
       "      <td>M</td>\n",
       "      <td>75</td>\n",
       "    </tr>\n",
       "    <tr>\n",
       "      <th>4</th>\n",
       "      <td>reena</td>\n",
       "      <td>22</td>\n",
       "      <td>F</td>\n",
       "      <td>82</td>\n",
       "    </tr>\n",
       "    <tr>\n",
       "      <th>5</th>\n",
       "      <td>ram</td>\n",
       "      <td>23</td>\n",
       "      <td>M</td>\n",
       "      <td>99</td>\n",
       "    </tr>\n",
       "  </tbody>\n",
       "</table>\n",
       "</div>"
      ],
      "text/plain": [
       "      Name  Age Gender Marks\n",
       "0     kavi   20      F    56\n",
       "1     anuj   21      M    65\n",
       "2      raj   19      M   NaN\n",
       "3  gautham   20      M    75\n",
       "4    reena   22      F    82\n",
       "5      ram   23      M    99"
      ]
     },
     "execution_count": 1,
     "metadata": {},
     "output_type": "execute_result"
    }
   ],
   "source": [
    "import pandas as pd\n",
    "data = {'Name': ['kavi', 'anuj','raj','gautham','reena','ram'],\n",
    "        'Age': [20,21,19,20,22,23],\n",
    "        'Gender': ['F','M','M','M','F','M'],\n",
    "        'Marks': [56,65,'NaN',75,82,99]}\n",
    "df = pd.DataFrame(data)\n",
    "df"
   ]
  },
  {
   "cell_type": "code",
   "execution_count": 2,
   "id": "806ecf4d-c763-480a-b275-7c20b6d3dfb7",
   "metadata": {},
   "outputs": [
    {
     "data": {
      "text/html": [
       "<div>\n",
       "<style scoped>\n",
       "    .dataframe tbody tr th:only-of-type {\n",
       "        vertical-align: middle;\n",
       "    }\n",
       "\n",
       "    .dataframe tbody tr th {\n",
       "        vertical-align: top;\n",
       "    }\n",
       "\n",
       "    .dataframe thead th {\n",
       "        text-align: right;\n",
       "    }\n",
       "</style>\n",
       "<table border=\"1\" class=\"dataframe\">\n",
       "  <thead>\n",
       "    <tr style=\"text-align: right;\">\n",
       "      <th></th>\n",
       "      <th>Name</th>\n",
       "      <th>Age</th>\n",
       "      <th>Gender</th>\n",
       "      <th>Marks</th>\n",
       "    </tr>\n",
       "  </thead>\n",
       "  <tbody>\n",
       "    <tr>\n",
       "      <th>0</th>\n",
       "      <td>kavi</td>\n",
       "      <td>20</td>\n",
       "      <td>1.0</td>\n",
       "      <td>56</td>\n",
       "    </tr>\n",
       "    <tr>\n",
       "      <th>1</th>\n",
       "      <td>anuj</td>\n",
       "      <td>21</td>\n",
       "      <td>0.0</td>\n",
       "      <td>65</td>\n",
       "    </tr>\n",
       "    <tr>\n",
       "      <th>2</th>\n",
       "      <td>raj</td>\n",
       "      <td>19</td>\n",
       "      <td>0.0</td>\n",
       "      <td>NaN</td>\n",
       "    </tr>\n",
       "    <tr>\n",
       "      <th>3</th>\n",
       "      <td>gautham</td>\n",
       "      <td>20</td>\n",
       "      <td>0.0</td>\n",
       "      <td>75</td>\n",
       "    </tr>\n",
       "    <tr>\n",
       "      <th>4</th>\n",
       "      <td>reena</td>\n",
       "      <td>22</td>\n",
       "      <td>1.0</td>\n",
       "      <td>82</td>\n",
       "    </tr>\n",
       "    <tr>\n",
       "      <th>5</th>\n",
       "      <td>ram</td>\n",
       "      <td>23</td>\n",
       "      <td>0.0</td>\n",
       "      <td>99</td>\n",
       "    </tr>\n",
       "  </tbody>\n",
       "</table>\n",
       "</div>"
      ],
      "text/plain": [
       "      Name  Age  Gender Marks\n",
       "0     kavi   20     1.0    56\n",
       "1     anuj   21     0.0    65\n",
       "2      raj   19     0.0   NaN\n",
       "3  gautham   20     0.0    75\n",
       "4    reena   22     1.0    82\n",
       "5      ram   23     0.0    99"
      ]
     },
     "execution_count": 2,
     "metadata": {},
     "output_type": "execute_result"
    }
   ],
   "source": [
    "df['Gender']=df['Gender'].map({'M':0,'F':1,}).astype(float)\n",
    "df"
   ]
  },
  {
   "cell_type": "code",
   "execution_count": 3,
   "id": "0277c442-0072-4db6-b124-8beea45a25f6",
   "metadata": {},
   "outputs": [
    {
     "data": {
      "text/html": [
       "<div>\n",
       "<style scoped>\n",
       "    .dataframe tbody tr th:only-of-type {\n",
       "        vertical-align: middle;\n",
       "    }\n",
       "\n",
       "    .dataframe tbody tr th {\n",
       "        vertical-align: top;\n",
       "    }\n",
       "\n",
       "    .dataframe thead th {\n",
       "        text-align: right;\n",
       "    }\n",
       "</style>\n",
       "<table border=\"1\" class=\"dataframe\">\n",
       "  <thead>\n",
       "    <tr style=\"text-align: right;\">\n",
       "      <th></th>\n",
       "      <th>Name</th>\n",
       "    </tr>\n",
       "  </thead>\n",
       "  <tbody>\n",
       "    <tr>\n",
       "      <th>0</th>\n",
       "      <td>kavi</td>\n",
       "    </tr>\n",
       "    <tr>\n",
       "      <th>1</th>\n",
       "      <td>anuj</td>\n",
       "    </tr>\n",
       "    <tr>\n",
       "      <th>2</th>\n",
       "      <td>raj</td>\n",
       "    </tr>\n",
       "    <tr>\n",
       "      <th>3</th>\n",
       "      <td>gautham</td>\n",
       "    </tr>\n",
       "    <tr>\n",
       "      <th>4</th>\n",
       "      <td>reena</td>\n",
       "    </tr>\n",
       "    <tr>\n",
       "      <th>5</th>\n",
       "      <td>ram</td>\n",
       "    </tr>\n",
       "  </tbody>\n",
       "</table>\n",
       "</div>"
      ],
      "text/plain": [
       "      Name\n",
       "0     kavi\n",
       "1     anuj\n",
       "2      raj\n",
       "3  gautham\n",
       "4    reena\n",
       "5      ram"
      ]
     },
     "execution_count": 3,
     "metadata": {},
     "output_type": "execute_result"
    }
   ],
   "source": [
    "df.filter(['Name'])"
   ]
  },
  {
   "cell_type": "code",
   "execution_count": 4,
   "id": "800ff91d-cb4b-4e9b-b109-4418eb870752",
   "metadata": {},
   "outputs": [
    {
     "data": {
      "text/html": [
       "<div>\n",
       "<style scoped>\n",
       "    .dataframe tbody tr th:only-of-type {\n",
       "        vertical-align: middle;\n",
       "    }\n",
       "\n",
       "    .dataframe tbody tr th {\n",
       "        vertical-align: top;\n",
       "    }\n",
       "\n",
       "    .dataframe thead th {\n",
       "        text-align: right;\n",
       "    }\n",
       "</style>\n",
       "<table border=\"1\" class=\"dataframe\">\n",
       "  <thead>\n",
       "    <tr style=\"text-align: right;\">\n",
       "      <th></th>\n",
       "      <th>Marks</th>\n",
       "    </tr>\n",
       "  </thead>\n",
       "  <tbody>\n",
       "    <tr>\n",
       "      <th>0</th>\n",
       "      <td>56</td>\n",
       "    </tr>\n",
       "    <tr>\n",
       "      <th>1</th>\n",
       "      <td>65</td>\n",
       "    </tr>\n",
       "    <tr>\n",
       "      <th>2</th>\n",
       "      <td>NaN</td>\n",
       "    </tr>\n",
       "    <tr>\n",
       "      <th>3</th>\n",
       "      <td>75</td>\n",
       "    </tr>\n",
       "    <tr>\n",
       "      <th>4</th>\n",
       "      <td>82</td>\n",
       "    </tr>\n",
       "    <tr>\n",
       "      <th>5</th>\n",
       "      <td>99</td>\n",
       "    </tr>\n",
       "  </tbody>\n",
       "</table>\n",
       "</div>"
      ],
      "text/plain": [
       "  Marks\n",
       "0    56\n",
       "1    65\n",
       "2   NaN\n",
       "3    75\n",
       "4    82\n",
       "5    99"
      ]
     },
     "execution_count": 4,
     "metadata": {},
     "output_type": "execute_result"
    }
   ],
   "source": [
    "df.filter(['Marks'])"
   ]
  },
  {
   "cell_type": "code",
   "execution_count": 5,
   "id": "359a02ba-51c9-41e6-be72-d8be79d3cfef",
   "metadata": {},
   "outputs": [
    {
     "data": {
      "text/html": [
       "<div>\n",
       "<style scoped>\n",
       "    .dataframe tbody tr th:only-of-type {\n",
       "        vertical-align: middle;\n",
       "    }\n",
       "\n",
       "    .dataframe tbody tr th {\n",
       "        vertical-align: top;\n",
       "    }\n",
       "\n",
       "    .dataframe thead th {\n",
       "        text-align: right;\n",
       "    }\n",
       "</style>\n",
       "<table border=\"1\" class=\"dataframe\">\n",
       "  <thead>\n",
       "    <tr style=\"text-align: right;\">\n",
       "      <th></th>\n",
       "      <th>Name</th>\n",
       "      <th>Age</th>\n",
       "      <th>Gender</th>\n",
       "      <th>Marks</th>\n",
       "    </tr>\n",
       "  </thead>\n",
       "  <tbody>\n",
       "    <tr>\n",
       "      <th>0</th>\n",
       "      <td>kavi</td>\n",
       "      <td>20</td>\n",
       "      <td>1.0</td>\n",
       "      <td>56</td>\n",
       "    </tr>\n",
       "    <tr>\n",
       "      <th>3</th>\n",
       "      <td>gautham</td>\n",
       "      <td>20</td>\n",
       "      <td>0.0</td>\n",
       "      <td>75</td>\n",
       "    </tr>\n",
       "  </tbody>\n",
       "</table>\n",
       "</div>"
      ],
      "text/plain": [
       "      Name  Age  Gender Marks\n",
       "0     kavi   20     1.0    56\n",
       "3  gautham   20     0.0    75"
      ]
     },
     "execution_count": 5,
     "metadata": {},
     "output_type": "execute_result"
    }
   ],
   "source": [
    "df[df['Age']==20]"
   ]
  },
  {
   "cell_type": "code",
   "execution_count": 6,
   "id": "2c81948e-d2b2-48a2-aeb9-2203d0112364",
   "metadata": {},
   "outputs": [
    {
     "name": "stdout",
     "output_type": "stream",
     "text": [
      "   ID     Name Branch\n",
      "0  11    Rahul   Soas\n",
      "1  12     ravi   Soas\n",
      "2  13   vishnu   Soas\n",
      "3  14   nokesh   Soas\n",
      "4  15     hari   Soas\n",
      "5  16     vasu   Soas\n",
      "6  17      raj   Soas\n",
      "7  18  gautham   Soas\n",
      "8  19    reena   Soas\n",
      "9  20      ram   Soas\n"
     ]
    }
   ],
   "source": [
    "#Merging the data\n",
    "S_details=pd.DataFrame({\n",
    "    'ID':[11,12,13,14,15,16,17,18,19,20],\n",
    "    'Name':['Rahul','ravi','vishnu','nokesh','hari','vasu','raj','gautham','reena','ram'],\n",
    "    'Branch':['Soas','Soas','Soas','Soas','Soas','Soas','Soas','Soas','Soas','Soas',]})\n",
    "print(S_details)"
   ]
  },
  {
   "cell_type": "code",
   "execution_count": 7,
   "id": "6665b6cf-9bb0-4a2b-951f-669fd57f3103",
   "metadata": {},
   "outputs": [
    {
     "name": "stdout",
     "output_type": "stream",
     "text": [
      "   ID  Paid\n",
      "0  11  5000\n",
      "1  12  2000\n",
      "2  13  4000\n",
      "3  14  3000\n",
      "4  15  4000\n",
      "5  16  5000\n",
      "6  17  6000\n",
      "7  18  7000\n",
      "8  19  8000\n",
      "9  20  9000\n"
     ]
    }
   ],
   "source": [
    "Fee_status=pd.DataFrame({\n",
    "    'ID':[11,12,13,14,15,16,17,18,19,20],\n",
    "    'Paid':['5000','2000','4000','3000','4000','5000','6000','7000','8000','9000']})\n",
    "print(Fee_status)"
   ]
  },
  {
   "cell_type": "code",
   "execution_count": 8,
   "id": "bd14b432-a615-4ade-b564-f4ff789ba175",
   "metadata": {},
   "outputs": [
    {
     "name": "stdout",
     "output_type": "stream",
     "text": [
      "   ID     Name Branch  Paid\n",
      "0  11    Rahul   Soas  5000\n",
      "1  12     ravi   Soas  2000\n",
      "2  13   vishnu   Soas  4000\n",
      "3  14   nokesh   Soas  3000\n",
      "4  15     hari   Soas  4000\n",
      "5  16     vasu   Soas  5000\n",
      "6  17      raj   Soas  6000\n",
      "7  18  gautham   Soas  7000\n",
      "8  19    reena   Soas  8000\n",
      "9  20      ram   Soas  9000\n"
     ]
    }
   ],
   "source": [
    "print(pd.merge(S_details,Fee_status,on='ID'))"
   ]
  },
  {
   "cell_type": "code",
   "execution_count": 9,
   "id": "c58b3ca0-2727-47e9-b6bb-f3eb82b29a2f",
   "metadata": {},
   "outputs": [
    {
     "name": "stdout",
     "output_type": "stream",
     "text": [
      "orginal array:\n",
      " [0 1 2 3 4 5 6 7]\n"
     ]
    }
   ],
   "source": [
    "#reshaping the data\n",
    "import numpy as np\n",
    "array1=np.arange(8)\n",
    "print(\"orginal array:\\n\",array1)"
   ]
  },
  {
   "cell_type": "code",
   "execution_count": 10,
   "id": "63b6cb13-ed1f-4f8b-9404-c921edd5f1ad",
   "metadata": {},
   "outputs": [
    {
     "name": "stdout",
     "output_type": "stream",
     "text": [
      "\n",
      " array reshaped with 2 rows and 4 columns:\n",
      " [[0 1 2 3]\n",
      " [4 5 6 7]]\n"
     ]
    }
   ],
   "source": [
    "array2=np.arange(8).reshape(2,4)\n",
    "print(\"\\n array reshaped with 2 rows and 4 columns:\\n\",array2)"
   ]
  },
  {
   "cell_type": "code",
   "execution_count": 11,
   "id": "3e141e36-b437-41da-88ff-ba8befd3b33f",
   "metadata": {},
   "outputs": [
    {
     "name": "stdout",
     "output_type": "stream",
     "text": [
      "\n",
      " array reshaped with 4 rows and 2 columns:\n",
      " [[0 1]\n",
      " [2 3]\n",
      " [4 5]\n",
      " [6 7]]\n"
     ]
    }
   ],
   "source": [
    "array3=np.arange(8).reshape(4,2)\n",
    "print(\"\\n array reshaped with 4 rows and 2 columns:\\n\",array3)"
   ]
  },
  {
   "cell_type": "code",
   "execution_count": 12,
   "id": "6e28d44e-d41c-432d-8e34-01ef1f6a210c",
   "metadata": {},
   "outputs": [
    {
     "name": "stdout",
     "output_type": "stream",
     "text": [
      "\n",
      " orginal array reshaped with 4 rows and 3D:\n",
      " [[[0 1]\n",
      "  [2 3]]\n",
      "\n",
      " [[4 5]\n",
      "  [6 7]]]\n"
     ]
    }
   ],
   "source": [
    "array4=np.arange(8).reshape(2,2,2)\n",
    "print(\"\\n orginal array reshaped with 4 rows and 3D:\\n\",array4)"
   ]
  },
  {
   "cell_type": "code",
   "execution_count": 3,
   "id": "64deed04-5d02-4ed2-a9b0-2bfe1009d52d",
   "metadata": {},
   "outputs": [],
   "source": [
    "import pandas as pd\n",
    "import numpy as np"
   ]
  },
  {
   "cell_type": "code",
   "execution_count": 4,
   "id": "5f8a57be-a2dc-4902-aa26-34b15234d2f7",
   "metadata": {},
   "outputs": [
    {
     "data": {
      "text/html": [
       "<div>\n",
       "<style scoped>\n",
       "    .dataframe tbody tr th:only-of-type {\n",
       "        vertical-align: middle;\n",
       "    }\n",
       "\n",
       "    .dataframe tbody tr th {\n",
       "        vertical-align: top;\n",
       "    }\n",
       "\n",
       "    .dataframe thead th {\n",
       "        text-align: right;\n",
       "    }\n",
       "</style>\n",
       "<table border=\"1\" class=\"dataframe\">\n",
       "  <thead>\n",
       "    <tr style=\"text-align: right;\">\n",
       "      <th></th>\n",
       "      <th>Age</th>\n",
       "      <th>Occupation</th>\n",
       "      <th>Location</th>\n",
       "      <th>Gender</th>\n",
       "    </tr>\n",
       "  </thead>\n",
       "  <tbody>\n",
       "    <tr>\n",
       "      <th>0</th>\n",
       "      <td>54</td>\n",
       "      <td>Artist</td>\n",
       "      <td>City</td>\n",
       "      <td>Male</td>\n",
       "    </tr>\n",
       "    <tr>\n",
       "      <th>1</th>\n",
       "      <td>21</td>\n",
       "      <td>Doctor</td>\n",
       "      <td>City</td>\n",
       "      <td>Female</td>\n",
       "    </tr>\n",
       "    <tr>\n",
       "      <th>2</th>\n",
       "      <td>76</td>\n",
       "      <td>Engineer</td>\n",
       "      <td>Rural</td>\n",
       "      <td>Female</td>\n",
       "    </tr>\n",
       "    <tr>\n",
       "      <th>3</th>\n",
       "      <td>53</td>\n",
       "      <td>Artist</td>\n",
       "      <td>Suburb</td>\n",
       "      <td>Male</td>\n",
       "    </tr>\n",
       "    <tr>\n",
       "      <th>4</th>\n",
       "      <td>45</td>\n",
       "      <td>Doctor</td>\n",
       "      <td>Rural</td>\n",
       "      <td>Female</td>\n",
       "    </tr>\n",
       "    <tr>\n",
       "      <th>...</th>\n",
       "      <td>...</td>\n",
       "      <td>...</td>\n",
       "      <td>...</td>\n",
       "      <td>...</td>\n",
       "    </tr>\n",
       "    <tr>\n",
       "      <th>495</th>\n",
       "      <td>78</td>\n",
       "      <td>Teacher</td>\n",
       "      <td>Suburb</td>\n",
       "      <td>Male</td>\n",
       "    </tr>\n",
       "    <tr>\n",
       "      <th>496</th>\n",
       "      <td>23</td>\n",
       "      <td>Engineer</td>\n",
       "      <td>Suburb</td>\n",
       "      <td>Female</td>\n",
       "    </tr>\n",
       "    <tr>\n",
       "      <th>497</th>\n",
       "      <td>63</td>\n",
       "      <td>Engineer</td>\n",
       "      <td>Suburb</td>\n",
       "      <td>Male</td>\n",
       "    </tr>\n",
       "    <tr>\n",
       "      <th>498</th>\n",
       "      <td>36</td>\n",
       "      <td>Artist</td>\n",
       "      <td>Suburb</td>\n",
       "      <td>Female</td>\n",
       "    </tr>\n",
       "    <tr>\n",
       "      <th>499</th>\n",
       "      <td>27</td>\n",
       "      <td>Engineer</td>\n",
       "      <td>Suburb</td>\n",
       "      <td>Male</td>\n",
       "    </tr>\n",
       "  </tbody>\n",
       "</table>\n",
       "<p>500 rows × 4 columns</p>\n",
       "</div>"
      ],
      "text/plain": [
       "     Age Occupation Location  Gender\n",
       "0     54     Artist     City    Male\n",
       "1     21     Doctor     City  Female\n",
       "2     76   Engineer    Rural  Female\n",
       "3     53     Artist   Suburb    Male\n",
       "4     45     Doctor    Rural  Female\n",
       "..   ...        ...      ...     ...\n",
       "495   78    Teacher   Suburb    Male\n",
       "496   23   Engineer   Suburb  Female\n",
       "497   63   Engineer   Suburb    Male\n",
       "498   36     Artist   Suburb  Female\n",
       "499   27   Engineer   Suburb    Male\n",
       "\n",
       "[500 rows x 4 columns]"
      ]
     },
     "execution_count": 4,
     "metadata": {},
     "output_type": "execute_result"
    }
   ],
   "source": [
    "df=pd.read_csv(\"q1_dataset.csv\")\n",
    "df"
   ]
  },
  {
   "cell_type": "code",
   "execution_count": 20,
   "id": "b18635f6-dbf8-4a1e-8974-07aef45006ac",
   "metadata": {},
   "outputs": [
    {
     "data": {
      "text/html": [
       "<div>\n",
       "<style scoped>\n",
       "    .dataframe tbody tr th:only-of-type {\n",
       "        vertical-align: middle;\n",
       "    }\n",
       "\n",
       "    .dataframe tbody tr th {\n",
       "        vertical-align: top;\n",
       "    }\n",
       "\n",
       "    .dataframe thead th {\n",
       "        text-align: right;\n",
       "    }\n",
       "</style>\n",
       "<table border=\"1\" class=\"dataframe\">\n",
       "  <thead>\n",
       "    <tr style=\"text-align: right;\">\n",
       "      <th></th>\n",
       "      <th>Age</th>\n",
       "      <th>Occupation</th>\n",
       "      <th>Location</th>\n",
       "      <th>Gender</th>\n",
       "    </tr>\n",
       "  </thead>\n",
       "  <tbody>\n",
       "    <tr>\n",
       "      <th>0</th>\n",
       "      <td>54</td>\n",
       "      <td>Artist</td>\n",
       "      <td>City</td>\n",
       "      <td>Male</td>\n",
       "    </tr>\n",
       "    <tr>\n",
       "      <th>1</th>\n",
       "      <td>21</td>\n",
       "      <td>Doctor</td>\n",
       "      <td>City</td>\n",
       "      <td>Female</td>\n",
       "    </tr>\n",
       "    <tr>\n",
       "      <th>2</th>\n",
       "      <td>76</td>\n",
       "      <td>Engineer</td>\n",
       "      <td>Rural</td>\n",
       "      <td>Female</td>\n",
       "    </tr>\n",
       "    <tr>\n",
       "      <th>3</th>\n",
       "      <td>53</td>\n",
       "      <td>Artist</td>\n",
       "      <td>Suburb</td>\n",
       "      <td>Male</td>\n",
       "    </tr>\n",
       "    <tr>\n",
       "      <th>4</th>\n",
       "      <td>45</td>\n",
       "      <td>Doctor</td>\n",
       "      <td>Rural</td>\n",
       "      <td>Female</td>\n",
       "    </tr>\n",
       "  </tbody>\n",
       "</table>\n",
       "</div>"
      ],
      "text/plain": [
       "   Age Occupation Location  Gender\n",
       "0   54     Artist     City    Male\n",
       "1   21     Doctor     City  Female\n",
       "2   76   Engineer    Rural  Female\n",
       "3   53     Artist   Suburb    Male\n",
       "4   45     Doctor    Rural  Female"
      ]
     },
     "execution_count": 20,
     "metadata": {},
     "output_type": "execute_result"
    }
   ],
   "source": [
    "df.head()"
   ]
  },
  {
   "cell_type": "code",
   "execution_count": 5,
   "id": "b2b4f9d9-7748-43a0-8af5-f8b5d667c1f1",
   "metadata": {},
   "outputs": [
    {
     "data": {
      "text/html": [
       "<div>\n",
       "<style scoped>\n",
       "    .dataframe tbody tr th:only-of-type {\n",
       "        vertical-align: middle;\n",
       "    }\n",
       "\n",
       "    .dataframe tbody tr th {\n",
       "        vertical-align: top;\n",
       "    }\n",
       "\n",
       "    .dataframe thead th {\n",
       "        text-align: right;\n",
       "    }\n",
       "</style>\n",
       "<table border=\"1\" class=\"dataframe\">\n",
       "  <thead>\n",
       "    <tr style=\"text-align: right;\">\n",
       "      <th></th>\n",
       "      <th>Age</th>\n",
       "      <th>Occupation</th>\n",
       "      <th>Location</th>\n",
       "      <th>Gender</th>\n",
       "    </tr>\n",
       "  </thead>\n",
       "  <tbody>\n",
       "    <tr>\n",
       "      <th>495</th>\n",
       "      <td>78</td>\n",
       "      <td>Teacher</td>\n",
       "      <td>Suburb</td>\n",
       "      <td>Male</td>\n",
       "    </tr>\n",
       "    <tr>\n",
       "      <th>496</th>\n",
       "      <td>23</td>\n",
       "      <td>Engineer</td>\n",
       "      <td>Suburb</td>\n",
       "      <td>Female</td>\n",
       "    </tr>\n",
       "    <tr>\n",
       "      <th>497</th>\n",
       "      <td>63</td>\n",
       "      <td>Engineer</td>\n",
       "      <td>Suburb</td>\n",
       "      <td>Male</td>\n",
       "    </tr>\n",
       "    <tr>\n",
       "      <th>498</th>\n",
       "      <td>36</td>\n",
       "      <td>Artist</td>\n",
       "      <td>Suburb</td>\n",
       "      <td>Female</td>\n",
       "    </tr>\n",
       "    <tr>\n",
       "      <th>499</th>\n",
       "      <td>27</td>\n",
       "      <td>Engineer</td>\n",
       "      <td>Suburb</td>\n",
       "      <td>Male</td>\n",
       "    </tr>\n",
       "  </tbody>\n",
       "</table>\n",
       "</div>"
      ],
      "text/plain": [
       "     Age Occupation Location  Gender\n",
       "495   78    Teacher   Suburb    Male\n",
       "496   23   Engineer   Suburb  Female\n",
       "497   63   Engineer   Suburb    Male\n",
       "498   36     Artist   Suburb  Female\n",
       "499   27   Engineer   Suburb    Male"
      ]
     },
     "execution_count": 5,
     "metadata": {},
     "output_type": "execute_result"
    }
   ],
   "source": [
    "df.tail()"
   ]
  },
  {
   "cell_type": "code",
   "execution_count": 11,
   "id": "4f928f8c-c9d0-480c-a335-65043a4fc907",
   "metadata": {},
   "outputs": [
    {
     "name": "stdout",
     "output_type": "stream",
     "text": [
      "there are 500 obesravations in the dataset.\n"
     ]
    }
   ],
   "source": [
    "#how many observations\n",
    "num_obesrvations=len(df)\n",
    "print(f\"there are {num_obesrvations} obesravations in the dataset.\")"
   ]
  },
  {
   "cell_type": "code",
   "execution_count": 10,
   "id": "9952efdc-8bdc-4f7e-832c-287815d27a5f",
   "metadata": {},
   "outputs": [
    {
     "name": "stdout",
     "output_type": "stream",
     "text": [
      "there are 4 obesravations in the dataset.\n"
     ]
    }
   ],
   "source": [
    "#how many features\n",
    "num_features=len(df.columns)\n",
    "print(f\"there are {num_features} obesravations in the dataset.\")"
   ]
  },
  {
   "cell_type": "code",
   "execution_count": 12,
   "id": "ca12c921-4c4a-46d7-aa6f-5eb627d371ce",
   "metadata": {},
   "outputs": [
    {
     "data": {
      "text/plain": [
       "array(['Artist', 'Doctor', 'Engineer', 'Teacher'], dtype=object)"
      ]
     },
     "execution_count": 12,
     "metadata": {},
     "output_type": "execute_result"
    }
   ],
   "source": [
    "#different occupations\n",
    "n_occupations= df['Occupation'].unique()\n",
    "n_occupations"
   ]
  },
  {
   "cell_type": "code",
   "execution_count": 13,
   "id": "fdd38502-e626-4611-8691-9349c8008d96",
   "metadata": {},
   "outputs": [
    {
     "data": {
      "text/plain": [
       "4"
      ]
     },
     "execution_count": 13,
     "metadata": {},
     "output_type": "execute_result"
    }
   ],
   "source": [
    "n_occupations= df['Occupation'].nunique()\n",
    "n_occupations"
   ]
  },
  {
   "cell_type": "code",
   "execution_count": 14,
   "id": "a06c7ff8-b005-4aec-bd5d-5bd4d0cdeeac",
   "metadata": {},
   "outputs": [
    {
     "name": "stdout",
     "output_type": "stream",
     "text": [
      "the most_common_occupation is:Artist\n"
     ]
    }
   ],
   "source": [
    "most_common_occupation= df['Occupation'].mode()[0]\n",
    "print(f\"the most_common_occupation is:{most_common_occupation}\")"
   ]
  },
  {
   "cell_type": "code",
   "execution_count": 17,
   "id": "b4c70c94-0621-4e5c-9656-7d0e7c86fa60",
   "metadata": {},
   "outputs": [
    {
     "name": "stdout",
     "output_type": "stream",
     "text": [
      "the average is:48.51\n"
     ]
    }
   ],
   "source": [
    "average_age=df['Age'].mean()\n",
    "print(f\"the average is:{average_age:.2f}\")"
   ]
  },
  {
   "cell_type": "code",
   "execution_count": 18,
   "id": "333f1b17-8e13-479a-99ff-9f6acd3c3069",
   "metadata": {},
   "outputs": [
    {
     "name": "stdout",
     "output_type": "stream",
     "text": [
      "Average age of the people in each occupation in group\n",
      "Occupation\n",
      "Artist      49.475862\n",
      "Doctor      48.254098\n",
      "Engineer    49.142857\n",
      "Teacher     47.024793\n",
      "Name: Age, dtype: float64\n"
     ]
    }
   ],
   "source": [
    "average_age_per_occupation=df.groupby('Occupation')['Age'].mean()\n",
    "print(\"Average age of the people in each occupation in group\")\n",
    "print(average_age_per_occupation)"
   ]
  },
  {
   "cell_type": "code",
   "execution_count": null,
   "id": "5a632298-e6dc-4ad3-8dd4-0bbfe8b8ff1d",
   "metadata": {},
   "outputs": [],
   "source": []
  }
 ],
 "metadata": {
  "kernelspec": {
   "display_name": "Python 3 (ipykernel)",
   "language": "python",
   "name": "python3"
  },
  "language_info": {
   "codemirror_mode": {
    "name": "ipython",
    "version": 3
   },
   "file_extension": ".py",
   "mimetype": "text/x-python",
   "name": "python",
   "nbconvert_exporter": "python",
   "pygments_lexer": "ipython3",
   "version": "3.12.7"
  }
 },
 "nbformat": 4,
 "nbformat_minor": 5
}
