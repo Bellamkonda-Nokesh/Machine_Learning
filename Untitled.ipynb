{
 "cells": [
  {
   "cell_type": "code",
   "execution_count": 2,
   "id": "02bc8b5a-0038-4bbe-8e20-f0c8b6ead4de",
   "metadata": {},
   "outputs": [
    {
     "name": "stdout",
     "output_type": "stream",
     "text": [
      "[[0 0 0 1 0 1 0 1 0 1 0 0]\n",
      " [1 1 0 0 1 0 1 0 0 0 0 0]\n",
      " [0 0 1 0 0 0 0 0 1 0 1 1]]\n"
     ]
    }
   ],
   "source": [
    "from sklearn.feature_extraction.text import CountVectorizer\n",
    "email=[\"Win a free lottery now\",\n",
    "      \"Important meeting at 5pm\",\n",
    "      \"Congratulations! you won a prize\"]\n",
    "vectorizer=CountVectorizer()\n",
    "X=vectorizer.fit_transform(email)\n",
    "print(X.toarray())"
   ]
  },
  {
   "cell_type": "code",
   "execution_count": null,
   "id": "06763f78-98c3-4bf3-b5a7-7065b31dde32",
   "metadata": {},
   "outputs": [],
   "source": []
  }
 ],
 "metadata": {
  "kernelspec": {
   "display_name": "Python 3 (ipykernel)",
   "language": "python",
   "name": "python3"
  },
  "language_info": {
   "codemirror_mode": {
    "name": "ipython",
    "version": 3
   },
   "file_extension": ".py",
   "mimetype": "text/x-python",
   "name": "python",
   "nbconvert_exporter": "python",
   "pygments_lexer": "ipython3",
   "version": "3.12.7"
  }
 },
 "nbformat": 4,
 "nbformat_minor": 5
}
